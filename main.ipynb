{
 "cells": [
  {
   "cell_type": "markdown",
   "metadata": {},
   "source": [
    "CA1 Data Analysis and Visualization\n",
    "\n",
    "I create a composite indicator to evaluate chess openings based on 3 index: effectiveness, popularity, and complexity. This indicator will integrate various metrics such as win rates, frequency of use to offer a comprehensive assessment of each opening.\n",
    "\n",
    "I will use the following dataset: (Available at: https://www.kaggle.com/datasets/alexandrelemercier/all-chess-openings)"
   ]
  },
  {
   "cell_type": "code",
   "execution_count": 74,
   "metadata": {},
   "outputs": [
    {
     "name": "stdout",
     "output_type": "stream",
     "text": [
      "   Unnamed: 0                                            Opening Colour  \\\n",
      "0           0                 Alekhine Defense, Balogh Variation  white   \n",
      "1           1               Alekhine Defense, Brooklyn Variation  black   \n",
      "2           2               Alekhine Defense, Exchange Variation  white   \n",
      "3           3                Alekhine Defense, Four Pawns Attack  white   \n",
      "4           4  Alekhine Defense, Four Pawns Attack, Fianchett...  black   \n",
      "\n",
      "   Num Games  ECO Last Played  Perf Rating  Avg Player  Player Win %  Draw %  \\\n",
      "0        692  B03  2018-06-22         2247        2225          40.8    24.3   \n",
      "1        228  B02  2018-06-27         2145        2193          29.8    22.4   \n",
      "2       6485  B03  2018-07-06         2244        2194          40.8    27.7   \n",
      "3        881  B03  2018-06-20         2187        2130          39.7    23.2   \n",
      "4        259  B03  2018-05-20         2122        2178          37.8    21.2   \n",
      "\n",
      "   ...  move2b move3w move3b move4w move4b White_win% Black_win% White_odds  \\\n",
      "0  ...     Nd5     d4     d6    Bc4    NaN       40.8       35.0   1.165714   \n",
      "1  ...     Ng8    NaN    NaN    NaN    NaN       47.8       29.8   1.604027   \n",
      "2  ...     Nd5     d4     d6     c4    Nb6       40.8       31.5   1.295238   \n",
      "3  ...     Nd5     d4     d6     c4    Nb6       39.7       37.1   1.070081   \n",
      "4  ...     Nd5     d4     d6     c4    Nb6       40.9       37.8   1.082011   \n",
      "\n",
      "  White_Wins Black_Wins  \n",
      "0    282.336    242.200  \n",
      "1    108.984     67.944  \n",
      "2   2645.880   2042.775  \n",
      "3    349.757    326.851  \n",
      "4    105.931     97.902  \n",
      "\n",
      "[5 rows x 26 columns]\n"
     ]
    }
   ],
   "source": [
    "import pandas as pd\n",
    "\n",
    "df = pd.read_csv('archive/openings.csv')\n",
    "print(df.head())"
   ]
  },
  {
   "cell_type": "markdown",
   "metadata": {},
   "source": [
    "1. Theoretical Framework: Chess Openings\n",
    "\n",
    "In chess, the choice of opening can be a determining factor in a player's success. For this reason, the proposed composite index seeks to quantify the multiple facets of chess openings, by synthesizing data relating to various dimensions: effectiveness, popularity and complexity. The aim is to provide a tool that players of all levels can use to make informed decisions about their repertoire of openings, facilitating strategic preparation and decision-making.\n",
    "\n",
    "The data selected comes from an extensive database of recorded games, covering a wide range of games, from amateur encounters to grandmaster confrontations. This comprehensive collection ensures that the index is representative of the entire chess-playing community. Drawing on quantifiable measures such as win and draw percentages, frequency of use and move sequences.\n",
    "\n",
    "<b>Data select:</b>\n",
    "<ul>\n",
    "    <li>Num Game</li>\n",
    "    <li>Last Played</li>\n",
    "    <li>Perf Rating</li>\n",
    "    <li>Avg Player Rating</li>\n",
    "    <li>Player Win %</li>\n",
    "    <li>Draw %</li>\n",
    "    <li>Opponent Win %</li>\n",
    "    <li>Number of moves</li>\n",
    "</ul>\n",
    "\n",
    "<ol>\n",
    "<li>\n",
    "Popularity indicator:\n",
    "    <ul>\n",
    "    <li>Num Games: How frequently the opening is used.</li>\n",
    "    <li>Last Played: Recent use to identify current trends.</li>\n",
    "    </ul>\n",
    "</li>\n",
    "<li>\n",
    "Performance indicator:\n",
    "    <ul>\n",
    "    <li>Perf Rating and Avg Player Rating: average success and skill level associated with the openings.</li>\n",
    "    <li>Player Win % \n",
    "    <li>Draw %</li>\n",
    "    <li>Opponent Win %</li> \n",
    "     =>Direct outcomes when the opening is used.\n",
    "    </ul>\n",
    "</li>\n",
    "<li>\n",
    "Complexity indicator:\n",
    "    <ul>\n",
    "    <li>Number of moves: The length and complexity of the opening moves can indicate strategic depth.</li>\n",
    "    </ul>\n",
    "</li>\n",
    "</ol>"
   ]
  },
  {
   "cell_type": "code",
   "execution_count": 75,
   "metadata": {},
   "outputs": [],
   "source": [
    "# add a column to the dataframe\n",
    "df['Num Moves'] = df['moves_list'].apply(lambda x: len(x.split()))\n",
    "\n",
    "# # add the data last_played, a number of days since the last played game\n",
    "df['Last Played'] = df['Last Played'].apply(lambda x: (pd.to_datetime('today') - pd.to_datetime(x)).days)\n",
    "\n"
   ]
  },
  {
   "cell_type": "code",
   "execution_count": 76,
   "metadata": {},
   "outputs": [
    {
     "name": "stdout",
     "output_type": "stream",
     "text": [
      "      Opening Name  Num Games  Last Played  Perf Rating   Avg Player  \\\n",
      "36   King's Gambit      10139  2209.242424  2172.848485  2171.454545   \n",
      "14    Colle System       4968  2129.333333  2109.000000  2091.000000   \n",
      "3   Benoni Defense      56840  2147.475000  2263.500000  2266.000000   \n",
      "41  Latvian Gambit       1004  2228.666667  2130.833333  2099.166667   \n",
      "4     Bird Opening      16315  2128.600000  2083.000000  2092.600000   \n",
      "\n",
      "    Player Win %     Draw %  Opponent Win %  Num Moves  Num Variations  \n",
      "36     41.254545  20.196970       38.539394   6.727273              33  \n",
      "14     37.566667  30.366667       32.066667   7.333333               1  \n",
      "3      37.802500  26.190000       36.012500  11.425000              40  \n",
      "41     47.300000  17.116667       35.583333   6.333333               6  \n",
      "4      38.540000  23.040000       38.420000   3.800000               5  \n",
      "<class 'pandas.core.frame.DataFrame'>\n",
      "RangeIndex: 93 entries, 0 to 92\n",
      "Data columns (total 10 columns):\n",
      " #   Column          Non-Null Count  Dtype  \n",
      "---  ------          --------------  -----  \n",
      " 0   Opening Name    93 non-null     object \n",
      " 1   Num Games       93 non-null     int64  \n",
      " 2   Last Played     93 non-null     float64\n",
      " 3   Perf Rating     93 non-null     float64\n",
      " 4   Avg Player      93 non-null     float64\n",
      " 5   Player Win %    93 non-null     float64\n",
      " 6   Draw %          93 non-null     float64\n",
      " 7   Opponent Win %  93 non-null     float64\n",
      " 8   Num Moves       93 non-null     float64\n",
      " 9   Num Variations  93 non-null     int64  \n",
      "dtypes: float64(7), int64(2), object(1)\n",
      "memory usage: 7.4+ KB\n",
      "None\n"
     ]
    }
   ],
   "source": [
    "selected_variable = ['Opening', 'Colour', 'Num Games', 'Last Played', 'Perf Rating', 'Avg Player', 'Player Win %', 'Draw %', 'Opponent Win %','Num Moves']\n",
    "\n",
    "df = df[selected_variable]\n",
    "\n",
    "# print(df.head())\n",
    "\n",
    "# Split the 'Opening' column into 'Opening Name' and 'Variation' based on the first comma\n",
    "df[['Opening Name', 'Variation']] = df['Opening'].str.split(',', n=1, expand=True)\n",
    "\n",
    "# print(df.sample(5))\n",
    "\n",
    "# Strip any leading or trailing whitespace characters that may have appeared from the split\n",
    "df['Opening Name'] = df['Opening Name'].str.strip()\n",
    "df['Variation'] = df['Variation'].str.strip()\n",
    "\n",
    "# Group by 'Opening Name' and aggregate the data\n",
    "# For numeric columns like 'Num Games', 'Perf Rating', etc., you can sum or average them\n",
    "# Count the number of variations for each opening\n",
    "aggregated_data = df.groupby('Opening Name').agg({\n",
    "    'Num Games': 'sum',\n",
    "    'Last Played': 'mean',\n",
    "    'Perf Rating': 'mean',\n",
    "    'Avg Player': 'mean',\n",
    "    'Player Win %': 'mean',\n",
    "    'Draw %': 'mean',\n",
    "    'Opponent Win %': 'mean',\n",
    "    'Num Moves': 'mean',\n",
    "    'Variation': 'count'  # Counts the number of variations\n",
    "}).rename(columns={'Variation': 'Num Variations', 'Num Moves': 'Avg Num Moves'})\n",
    "\n",
    "# Reset index to make 'Opening Name' a column again\n",
    "aggregated_data.reset_index(inplace=True)\n",
    "\n",
    "# Save the modified dataframe to a new CSV file or continue analysis\n",
    "aggregated_data.to_csv('archive/modeified_openings.csv', index=False)\n",
    "\n",
    "print(aggregated_data.sample(5))\n",
    "print(aggregated_data.info())\n",
    "\n"
   ]
  },
  {
   "cell_type": "code",
   "execution_count": null,
   "metadata": {},
   "outputs": [],
   "source": []
  }
 ],
 "metadata": {
  "kernelspec": {
   "display_name": "base",
   "language": "python",
   "name": "python3"
  },
  "language_info": {
   "codemirror_mode": {
    "name": "ipython",
    "version": 3
   },
   "file_extension": ".py",
   "mimetype": "text/x-python",
   "name": "python",
   "nbconvert_exporter": "python",
   "pygments_lexer": "ipython3",
   "version": "3.11.5"
  }
 },
 "nbformat": 4,
 "nbformat_minor": 2
}
