{
 "cells": [
  {
   "cell_type": "markdown",
   "metadata": {},
   "source": [
    "CA1 Data Analysis and Visualization"
   ]
  }
 ],
 "metadata": {
  "language_info": {
   "name": "python"
  }
 },
 "nbformat": 4,
 "nbformat_minor": 2
}
